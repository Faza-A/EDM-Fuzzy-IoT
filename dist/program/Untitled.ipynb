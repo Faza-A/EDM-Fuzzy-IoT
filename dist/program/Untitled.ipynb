{
 "cells": [
  {
   "cell_type": "code",
   "execution_count": 26,
   "metadata": {
    "scrolled": true
   },
   "outputs": [
    {
     "name": "stdout",
     "output_type": "stream",
     "text": [
      "Sensor 1:  386.14\n",
      "Sensor 2:  40.86\n",
      "Sensor 3:  369.39\n",
      "\n",
      "\n",
      "\n",
      "Sensor 1:  jingga1 \t=  1\n",
      "Sensor 2:  hijau2 \t=  1\n",
      "Sensor 3:  jingga3 \t=  1\n",
      "Sensor 1 =  jingga1 & Sensor 2 =  hijau2 & Sensor 3 =  jingga3 Maka Status =  Gempa \t\t=  1\n",
      "\n",
      "Max Gempa:  1\n",
      "Max Tidak Gempa:  0\n",
      "Pembilang:  425.0\n",
      "Penyebut:  5.5\n",
      "hasil akhir:  77.27\n",
      "1 2020/07/29 02:20:46\n"
     ]
    }
   ],
   "source": [
    "import random\n",
    "from fuzzy import *\n",
    "\n",
    "sensor1 = 386.14\n",
    "sensor2 = 40.86\n",
    "sensor3 = 369.39\n",
    "\n",
    "print(\"Sensor 1: \",sensor1)\n",
    "print(\"Sensor 2: \",sensor2)\n",
    "print(\"Sensor 3: \",sensor3)\n",
    "print(\"\\n\\n\")\n",
    "\n",
    "hasil, tanggal, waktu = fuzzy(sensor1,sensor2,sensor3)\n",
    "print(hasil, tanggal, waktu)"
   ]
  },
  {
   "cell_type": "code",
   "execution_count": null,
   "metadata": {},
   "outputs": [],
   "source": []
  },
  {
   "cell_type": "code",
   "execution_count": 2,
   "metadata": {},
   "outputs": [],
   "source": [
    "\n",
    "#sensor1 = random.uniform(0.0000,1.24)\n",
    "#sensor1 = float(sensor1)\n",
    "#sensor2 = random.uniform(0.0000,1.24)\n",
    "#sensor2 = float(sensor2)\n",
    "#sensor3 = random.uniform(0.0000,1.24)\n",
    "#sensor3 = float(sensor3)\n",
    "\n",
    "#print(\"Sensor 1: \",sensor1)\n",
    "#print(\"Sensor 2: \",sensor2)\n",
    "#print(\"Sensor 3: \",sensor3)\n",
    "#print(\"\\n\\n\")\n",
    "\n",
    "#sensor1 = sensor1*981\n",
    "#sensor2 = sensor2*981\n",
    "#sensor3 = sensor3*981"
   ]
  }
 ],
 "metadata": {
  "kernelspec": {
   "display_name": "Python 3",
   "language": "python",
   "name": "python3"
  },
  "language_info": {
   "codemirror_mode": {
    "name": "ipython",
    "version": 3
   },
   "file_extension": ".py",
   "mimetype": "text/x-python",
   "name": "python",
   "nbconvert_exporter": "python",
   "pygments_lexer": "ipython3",
   "version": "3.6.5"
  }
 },
 "nbformat": 4,
 "nbformat_minor": 2
}
